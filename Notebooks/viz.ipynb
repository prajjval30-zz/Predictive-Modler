{
 "cells": [
  {
   "cell_type": "code",
   "execution_count": 4,
   "metadata": {
    "ExecuteTime": {
     "end_time": "2020-03-20T14:12:20.159173Z",
     "start_time": "2020-03-20T14:12:20.011383Z"
    }
   },
   "outputs": [],
   "source": [
    "import pandas as pd\n",
    "import plotly.graph_objects as go\n",
    "import plotly.io as pio\n",
    "import plotly.express as px\n",
    "# renderer for jupyter notebook\n",
    "pio.renderers.default='notebook'\n",
    "# renderer for vs code\n",
    "# pio.renderers.default='vscode'\n",
    "# renderer for colab\n",
    "# pio.renderers.default='colab'\n",
    "pio.templates.default = \"plotly_dark\"\n",
    "import numpy as np\n",
    "import statsmodels.api as sm\n",
    "import datetime\n",
    "from plotly.subplots import make_subplots\n",
    "from ipywidgets import widgets,Layout"
   ]
  },
  {
   "cell_type": "code",
   "execution_count": 2,
   "metadata": {
    "ExecuteTime": {
     "end_time": "2020-03-20T14:11:32.625390Z",
     "start_time": "2020-03-20T14:11:32.014510Z"
    }
   },
   "outputs": [],
   "source": [
    "district=pd.read_csv(r'../data/processedfiles/rainfall-districts.csv')\n",
    "koeppen=pd.read_csv(r'../data/processedfiles/rainfall-koe-regions.csv')\n",
    "thornthwaite=pd.read_csv(r'../data/processedfiles/rainfall-tho-regions.csv')\n",
    "climatic=pd.read_csv(r'../data/processedfiles/rainfall-climatic-regions.csv')"
   ]
  },
  {
   "cell_type": "markdown",
   "metadata": {},
   "source": [
    "### Rainfall by region type"
   ]
  },
  {
   "cell_type": "code",
   "execution_count": 1,
   "metadata": {
    "ExecuteTime": {
     "end_time": "2020-03-18T12:15:04.714241Z",
     "start_time": "2020-03-18T12:15:04.584369Z"
    }
   },
   "outputs": [
    {
     "ename": "NameError",
     "evalue": "name 'widgets' is not defined",
     "output_type": "error",
     "traceback": [
      "\u001b[0;31m---------------------------------------------------------------------------\u001b[0m",
      "\u001b[0;31mNameError\u001b[0m                                 Traceback (most recent call last)",
      "\u001b[0;32m<ipython-input-1-d174b18bc9b7>\u001b[0m in \u001b[0;36m<module>\u001b[0;34m\u001b[0m\n\u001b[1;32m      1\u001b[0m \u001b[0;31m# dropdown widget\u001b[0m\u001b[0;34m\u001b[0m\u001b[0;34m\u001b[0m\u001b[0;34m\u001b[0m\u001b[0m\n\u001b[0;32m----> 2\u001b[0;31m region_type = widgets.Dropdown(\n\u001b[0m\u001b[1;32m      3\u001b[0m     options=['District','Koeppen Climatic Regions',\n\u001b[1;32m      4\u001b[0m              'Thornthwaite Climatic Regions', 'Climatic Region'],\n\u001b[1;32m      5\u001b[0m     value='District', description='Region Type',layout=Layout(margin='20px 20px 20px 20px'))\n",
      "\u001b[0;31mNameError\u001b[0m: name 'widgets' is not defined"
     ]
    }
   ],
   "source": [
    "# dropdown widget\n",
    "region_type = widgets.Dropdown(\n",
    "    options=['District','Koeppen Climatic Regions',\n",
    "             'Thornthwaite Climatic Regions', 'Climatic Region'],\n",
    "    value='District', description='Region Type',layout=Layout(margin='20px 20px 20px 20px'))\n",
    "container=widgets.HBox([region_type])"
   ]
  },
  {
   "cell_type": "code",
   "execution_count": null,
   "metadata": {
    "ExecuteTime": {
     "start_time": "2020-03-18T12:08:07.033Z"
    }
   },
   "outputs": [],
   "source": [
    "traces=[go.Scatter(x=district['date'],y=district[i],name=i) for i in district.columns[3:]]\n",
    "layout = go.Layout(title=dict(text='Rainfall by region type'),xaxis=dict(title='Years',rangeslider=dict(visible=True)),yaxis=dict(title='Rainfall'))\n",
    "go.Layout()\n",
    "g = go.FigureWidget(data=traces, layout=layout)"
   ]
  },
  {
   "cell_type": "code",
   "execution_count": 5,
   "metadata": {
    "ExecuteTime": {
     "end_time": "2020-03-18T07:10:41.391158Z",
     "start_time": "2020-03-18T07:10:41.368264Z"
    }
   },
   "outputs": [],
   "source": [
    "def plot_fig(df, title):\n",
    "    var = {'district': district,\n",
    "           'koeppen': koeppen,\n",
    "           'thornthwaite': thornthwaite,\n",
    "           'climatic': climatic}\n",
    "    df=var[df]\n",
    "    with g.batch_update():\n",
    "        col=list(df.columns.values)\n",
    "        for i in range(len(g.data)):\n",
    "            if i+3<len(col):\n",
    "                g.data[i].y=df[col[i+3]]\n",
    "                g.data[i].name=col[i+3]\n",
    "                g.data[i].x=df['date']\n",
    "            else:\n",
    "                g.data[i].x=None\n",
    "                g.data[i].y=None\n",
    "                g.data[i].name=None"
   ]
  },
  {
   "cell_type": "code",
   "execution_count": 6,
   "metadata": {
    "ExecuteTime": {
     "end_time": "2020-03-18T07:10:45.203080Z",
     "start_time": "2020-03-18T07:10:44.741940Z"
    },
    "collapsed": true
   },
   "outputs": [
    {
     "data": {
      "application/vnd.jupyter.widget-view+json": {
       "model_id": "0c77c1d37bd44e2e97b4d4c9e5791ff9",
       "version_major": 2,
       "version_minor": 0
      },
      "text/plain": [
       "VBox(children=(HBox(children=(Dropdown(description='Region Type', options=('District', 'Koeppen Climatic Regio…"
      ]
     },
     "metadata": {},
     "output_type": "display_data"
    }
   ],
   "source": [
    "total_container=widgets.VBox([container,g])\n",
    "display(total_container)"
   ]
  },
  {
   "cell_type": "code",
   "execution_count": 7,
   "metadata": {
    "ExecuteTime": {
     "end_time": "2020-03-18T07:10:52.436721Z",
     "start_time": "2020-03-18T07:10:52.433627Z"
    }
   },
   "outputs": [],
   "source": [
    "def response(change):\n",
    "    val=region_type.value.split()[0].lower()\n",
    "    plot_fig(val,region_type.value)"
   ]
  },
  {
   "cell_type": "code",
   "execution_count": 8,
   "metadata": {
    "ExecuteTime": {
     "end_time": "2020-03-18T07:10:59.542716Z",
     "start_time": "2020-03-18T07:10:59.535158Z"
    }
   },
   "outputs": [],
   "source": [
    "region_type.observe(response,names='value')"
   ]
  },
  {
   "cell_type": "markdown",
   "metadata": {},
   "source": [
    "### Rainfall Complete Data\n"
   ]
  },
  {
   "cell_type": "code",
   "execution_count": 5,
   "metadata": {
    "ExecuteTime": {
     "end_time": "2020-03-18T11:45:47.037254Z",
     "start_time": "2020-03-18T11:45:47.015275Z"
    }
   },
   "outputs": [],
   "source": [
    "rain=pd.concat([district,koeppen.iloc[:,3:],climatic.iloc[:,3:],thornthwaite.iloc[:,3:]],axis=1)"
   ]
  },
  {
   "cell_type": "code",
   "execution_count": 6,
   "metadata": {
    "ExecuteTime": {
     "end_time": "2020-03-18T11:45:48.035792Z",
     "start_time": "2020-03-18T11:45:48.022565Z"
    }
   },
   "outputs": [],
   "source": [
    "rain=rain.set_index('date',drop=False)"
   ]
  },
  {
   "cell_type": "code",
   "execution_count": 8,
   "metadata": {
    "ExecuteTime": {
     "end_time": "2020-03-18T11:46:18.458532Z",
     "start_time": "2020-03-18T11:46:16.849240Z"
    }
   },
   "outputs": [],
   "source": [
    "rain['month']=rain.apply(lambda x: datetime.datetime.strptime(x['date'], \"%Y-%m-%d\").month,axis=1)\n",
    "rain['day-of-month']=rain.apply(lambda x: datetime.datetime.strptime(x['date'], \"%Y-%m-%d\").day,axis=1)\n",
    "rain=rain[list(rain.columns[:3])+list(rain.columns[48:50])+list(rain.columns[3:48])]"
   ]
  },
  {
   "cell_type": "code",
   "execution_count": 9,
   "metadata": {
    "ExecuteTime": {
     "end_time": "2020-03-18T11:46:19.394636Z",
     "start_time": "2020-03-18T11:46:19.391451Z"
    }
   },
   "outputs": [],
   "source": [
    "regions=list(rain.columns.values)[5:]"
   ]
  },
  {
   "cell_type": "code",
   "execution_count": 10,
   "metadata": {
    "ExecuteTime": {
     "end_time": "2020-03-17T18:58:21.946323Z",
     "start_time": "2020-03-17T18:58:21.907607Z"
    }
   },
   "outputs": [],
   "source": [
    "def plot_complete_data(df):\n",
    "    fig = go.Figure()\n",
    "    for i in df.columns[5:]:\n",
    "        fig.add_trace(go.Scatter(\n",
    "            x=df['date'],\n",
    "            y=df[i],\n",
    "            name=i))\n",
    "    fig.update_layout(title_text='Rainfall based on all attributes',\n",
    "                      xaxis_title='Time', yaxis_title='Rainfall', xaxis_rangeslider_visible=True)\n",
    "    fig.show()"
   ]
  },
  {
   "cell_type": "code",
   "execution_count": 11,
   "metadata": {
    "ExecuteTime": {
     "end_time": "2020-03-17T18:58:22.861944Z",
     "start_time": "2020-03-17T18:58:22.854110Z"
    }
   },
   "outputs": [],
   "source": [
    "# plots all the attributes\n",
    "# plot_complete_data(rain)"
   ]
  },
  {
   "cell_type": "markdown",
   "metadata": {},
   "source": [
    "### Plot based on region type, and year range"
   ]
  },
  {
   "cell_type": "code",
   "execution_count": 29,
   "metadata": {
    "ExecuteTime": {
     "end_time": "2020-03-18T08:41:30.574229Z",
     "start_time": "2020-03-18T08:41:28.507203Z"
    }
   },
   "outputs": [],
   "source": [
    "traces_d=[]\n",
    "traces_m=[]\n",
    "for i in range(1957, 2013):\n",
    "    temp = rain[rain['year'] == i]\n",
    "    traces_d.append(go.Scatter(x=temp['day-number'],y=temp['ajmer'],name=str(i)))\n",
    "    traces_m.append(go.Scatter(x=temp['month'],y=temp['ajmer'],name=str(i)))\n",
    "layout_d = go.Layout(title=dict(text='Rainfall by region'),xaxis=dict(title='Days',rangeslider=dict(visible=True)),yaxis=dict(title='Rainfall'))\n",
    "layout_m=go.Layout(title=dict(text='Rainfall by region'),xaxis=dict(title='Months',rangeslider=dict(visible=True)),yaxis=dict(title='Rainfall'))\n",
    "g_d = go.FigureWidget(data=traces_d, layout=layout_d)\n",
    "g_m=go.FigureWidget(data=traces_m, layout=layout_m)"
   ]
  },
  {
   "cell_type": "code",
   "execution_count": 33,
   "metadata": {
    "ExecuteTime": {
     "end_time": "2020-03-18T08:45:17.189134Z",
     "start_time": "2020-03-18T08:45:17.164715Z"
    }
   },
   "outputs": [],
   "source": [
    "def plot_sub_plots(region,year_start, year_end):\n",
    "    df=rain[['date','year','day-number','month',region]]\n",
    "    for i in range(1957, 2013):\n",
    "        with g_d.batch_update():\n",
    "            if year_start<=i<=year_end:\n",
    "                temp = df[df['year'] == i]\n",
    "                g_d.data[i-1957].y=temp[region]\n",
    "                g_d.data[i-1957].name=str(i)\n",
    "                g_d.data[i-1957].x=temp['day-number']\n",
    "            else:\n",
    "                g_d.data[i-1957].x=None\n",
    "                g_d.data[i-1957].y=None\n",
    "                g_d.data[i-1957].name=None\n",
    "        with g_m.batch_update():\n",
    "            if year_start<=i<=year_end:\n",
    "                temp = df[df['year'] == i]\n",
    "                g_m.data[i-1957].y=temp[region]\n",
    "                g_m.data[i-1957].name=str(i)\n",
    "                g_m.data[i-1957].x=temp['month']\n",
    "            else:\n",
    "                g_m.data[i-1957].x=None\n",
    "                g_m.data[i-1957].y=None\n",
    "                g_m.data[i-1957].name=None"
   ]
  },
  {
   "cell_type": "code",
   "execution_count": 31,
   "metadata": {
    "ExecuteTime": {
     "end_time": "2020-03-18T08:43:03.286991Z",
     "start_time": "2020-03-18T08:43:03.280998Z"
    }
   },
   "outputs": [],
   "source": [
    "def on_update_clicked(btn):\n",
    "    plot_sub_plots(region.value,year_selector.value[0],year_selector.value[1])"
   ]
  },
  {
   "cell_type": "code",
   "execution_count": 34,
   "metadata": {
    "ExecuteTime": {
     "end_time": "2020-03-18T08:46:15.387286Z",
     "start_time": "2020-03-18T08:46:13.427339Z"
    }
   },
   "outputs": [
    {
     "data": {
      "application/vnd.jupyter.widget-view+json": {
       "model_id": "437dec8ca45d4458ba148ae034221725",
       "version_major": 2,
       "version_minor": 0
      },
      "text/plain": [
       "VBox(children=(Dropdown(description='Region', options=('ajmer', 'alwar', 'banswara', 'baran', 'barmer', 'bhara…"
      ]
     },
     "metadata": {},
     "output_type": "display_data"
    }
   ],
   "source": [
    "region = widgets.Dropdown(\n",
    "    options=regions,\n",
    "    value=regions[0], description='Region',\n",
    "layout=Layout(margin='20px 20px 20px 20px'))\n",
    "year_selector = widgets.SelectionRangeSlider(\n",
    "    options=list(rain['year'].unique()),\n",
    "    index=(0, len(list(rain['year'].unique()))-1),\n",
    "    description='Select Years', disabled=False,\n",
    "layout=Layout(width='500px',margin='20px 20px 20px 20px'))\n",
    "update_btn = widgets.Button(\n",
    "    description='Update',\n",
    "    disabled=False,\n",
    "    button_style='success',\n",
    "layout=Layout(margin='20px 20px 20px 20px'))\n",
    "update_btn.on_click(on_update_clicked)\n",
    "container = widgets.VBox([region, year_selector, update_btn,g_d,g_m])\n",
    "display(container)"
   ]
  },
  {
   "cell_type": "code",
   "execution_count": 3,
   "metadata": {
    "ExecuteTime": {
     "end_time": "2020-03-20T14:11:47.227125Z",
     "start_time": "2020-03-20T14:11:46.883570Z"
    }
   },
   "outputs": [
    {
     "data": {
      "text/html": [
       "<div>\n",
       "<style scoped>\n",
       "    .dataframe tbody tr th:only-of-type {\n",
       "        vertical-align: middle;\n",
       "    }\n",
       "\n",
       "    .dataframe tbody tr th {\n",
       "        vertical-align: top;\n",
       "    }\n",
       "\n",
       "    .dataframe thead th {\n",
       "        text-align: right;\n",
       "    }\n",
       "</style>\n",
       "<table border=\"1\" class=\"dataframe\">\n",
       "  <thead>\n",
       "    <tr style=\"text-align: right;\">\n",
       "      <th></th>\n",
       "      <th>year</th>\n",
       "      <th>day-number</th>\n",
       "      <th>ajmer</th>\n",
       "      <th>alwar</th>\n",
       "      <th>banswara</th>\n",
       "      <th>baran</th>\n",
       "      <th>barmer</th>\n",
       "      <th>bharatpur</th>\n",
       "      <th>bhilwara</th>\n",
       "      <th>bikaner</th>\n",
       "      <th>...</th>\n",
       "      <th>nagaur</th>\n",
       "      <th>pali</th>\n",
       "      <th>pratapgarh</th>\n",
       "      <th>rajsamand</th>\n",
       "      <th>sawai madhopur</th>\n",
       "      <th>sikar</th>\n",
       "      <th>sirohi</th>\n",
       "      <th>ganganagar</th>\n",
       "      <th>tonk</th>\n",
       "      <th>udaipur</th>\n",
       "    </tr>\n",
       "  </thead>\n",
       "  <tbody>\n",
       "    <tr>\n",
       "      <th>count</th>\n",
       "      <td>20454.000000</td>\n",
       "      <td>20454.000000</td>\n",
       "      <td>19327.000000</td>\n",
       "      <td>19689.000000</td>\n",
       "      <td>20084.000000</td>\n",
       "      <td>8036.000000</td>\n",
       "      <td>14943.000000</td>\n",
       "      <td>19630.000000</td>\n",
       "      <td>20087.000000</td>\n",
       "      <td>18259.000000</td>\n",
       "      <td>...</td>\n",
       "      <td>20084.000000</td>\n",
       "      <td>20053.000000</td>\n",
       "      <td>1827.000000</td>\n",
       "      <td>7640.000000</td>\n",
       "      <td>14605.000000</td>\n",
       "      <td>20419.000000</td>\n",
       "      <td>20450.000000</td>\n",
       "      <td>20084.000000</td>\n",
       "      <td>18988.000000</td>\n",
       "      <td>20449.000000</td>\n",
       "    </tr>\n",
       "    <tr>\n",
       "      <th>mean</th>\n",
       "      <td>1984.501027</td>\n",
       "      <td>183.125257</td>\n",
       "      <td>1.231852</td>\n",
       "      <td>1.709242</td>\n",
       "      <td>2.361521</td>\n",
       "      <td>2.414630</td>\n",
       "      <td>0.729333</td>\n",
       "      <td>1.780907</td>\n",
       "      <td>1.629850</td>\n",
       "      <td>0.719182</td>\n",
       "      <td>...</td>\n",
       "      <td>1.085057</td>\n",
       "      <td>1.318173</td>\n",
       "      <td>2.631637</td>\n",
       "      <td>1.621219</td>\n",
       "      <td>1.880346</td>\n",
       "      <td>1.229352</td>\n",
       "      <td>2.155147</td>\n",
       "      <td>0.656415</td>\n",
       "      <td>1.622555</td>\n",
       "      <td>1.771191</td>\n",
       "    </tr>\n",
       "    <tr>\n",
       "      <th>std</th>\n",
       "      <td>16.163646</td>\n",
       "      <td>105.441220</td>\n",
       "      <td>5.695797</td>\n",
       "      <td>7.796654</td>\n",
       "      <td>11.518930</td>\n",
       "      <td>10.167191</td>\n",
       "      <td>4.500999</td>\n",
       "      <td>7.909387</td>\n",
       "      <td>6.124386</td>\n",
       "      <td>4.383149</td>\n",
       "      <td>...</td>\n",
       "      <td>4.663666</td>\n",
       "      <td>6.349870</td>\n",
       "      <td>10.741672</td>\n",
       "      <td>6.731750</td>\n",
       "      <td>8.814127</td>\n",
       "      <td>5.013550</td>\n",
       "      <td>10.101074</td>\n",
       "      <td>3.093403</td>\n",
       "      <td>6.379751</td>\n",
       "      <td>6.625139</td>\n",
       "    </tr>\n",
       "    <tr>\n",
       "      <th>min</th>\n",
       "      <td>1957.000000</td>\n",
       "      <td>1.000000</td>\n",
       "      <td>0.000000</td>\n",
       "      <td>0.000000</td>\n",
       "      <td>0.000000</td>\n",
       "      <td>0.000000</td>\n",
       "      <td>0.000000</td>\n",
       "      <td>0.000000</td>\n",
       "      <td>0.000000</td>\n",
       "      <td>0.000000</td>\n",
       "      <td>...</td>\n",
       "      <td>0.000000</td>\n",
       "      <td>0.000000</td>\n",
       "      <td>0.000000</td>\n",
       "      <td>0.000000</td>\n",
       "      <td>0.000000</td>\n",
       "      <td>0.000000</td>\n",
       "      <td>0.000000</td>\n",
       "      <td>0.000000</td>\n",
       "      <td>0.000000</td>\n",
       "      <td>0.000000</td>\n",
       "    </tr>\n",
       "    <tr>\n",
       "      <th>25%</th>\n",
       "      <td>1971.000000</td>\n",
       "      <td>92.000000</td>\n",
       "      <td>0.000000</td>\n",
       "      <td>0.000000</td>\n",
       "      <td>0.000000</td>\n",
       "      <td>0.000000</td>\n",
       "      <td>0.000000</td>\n",
       "      <td>0.000000</td>\n",
       "      <td>0.000000</td>\n",
       "      <td>0.000000</td>\n",
       "      <td>...</td>\n",
       "      <td>0.000000</td>\n",
       "      <td>0.000000</td>\n",
       "      <td>0.000000</td>\n",
       "      <td>0.000000</td>\n",
       "      <td>0.000000</td>\n",
       "      <td>0.000000</td>\n",
       "      <td>0.000000</td>\n",
       "      <td>0.000000</td>\n",
       "      <td>0.000000</td>\n",
       "      <td>0.000000</td>\n",
       "    </tr>\n",
       "    <tr>\n",
       "      <th>50%</th>\n",
       "      <td>1984.500000</td>\n",
       "      <td>183.000000</td>\n",
       "      <td>0.000000</td>\n",
       "      <td>0.000000</td>\n",
       "      <td>0.000000</td>\n",
       "      <td>0.000000</td>\n",
       "      <td>0.000000</td>\n",
       "      <td>0.000000</td>\n",
       "      <td>0.000000</td>\n",
       "      <td>0.000000</td>\n",
       "      <td>...</td>\n",
       "      <td>0.000000</td>\n",
       "      <td>0.000000</td>\n",
       "      <td>0.000000</td>\n",
       "      <td>0.000000</td>\n",
       "      <td>0.000000</td>\n",
       "      <td>0.000000</td>\n",
       "      <td>0.000000</td>\n",
       "      <td>0.000000</td>\n",
       "      <td>0.000000</td>\n",
       "      <td>0.000000</td>\n",
       "    </tr>\n",
       "    <tr>\n",
       "      <th>75%</th>\n",
       "      <td>1998.750000</td>\n",
       "      <td>274.000000</td>\n",
       "      <td>0.000000</td>\n",
       "      <td>0.000000</td>\n",
       "      <td>0.000000</td>\n",
       "      <td>0.000000</td>\n",
       "      <td>0.000000</td>\n",
       "      <td>0.000000</td>\n",
       "      <td>0.000000</td>\n",
       "      <td>0.000000</td>\n",
       "      <td>...</td>\n",
       "      <td>0.000000</td>\n",
       "      <td>0.000000</td>\n",
       "      <td>0.000000</td>\n",
       "      <td>0.000000</td>\n",
       "      <td>0.000000</td>\n",
       "      <td>0.000000</td>\n",
       "      <td>0.000000</td>\n",
       "      <td>0.000000</td>\n",
       "      <td>0.000000</td>\n",
       "      <td>0.000000</td>\n",
       "    </tr>\n",
       "    <tr>\n",
       "      <th>max</th>\n",
       "      <td>2012.000000</td>\n",
       "      <td>366.000000</td>\n",
       "      <td>294.000000</td>\n",
       "      <td>282.500000</td>\n",
       "      <td>363.000000</td>\n",
       "      <td>202.000000</td>\n",
       "      <td>185.000000</td>\n",
       "      <td>235.000000</td>\n",
       "      <td>182.580000</td>\n",
       "      <td>126.000000</td>\n",
       "      <td>...</td>\n",
       "      <td>125.120000</td>\n",
       "      <td>188.860000</td>\n",
       "      <td>173.400000</td>\n",
       "      <td>124.000000</td>\n",
       "      <td>175.000000</td>\n",
       "      <td>152.320000</td>\n",
       "      <td>313.100000</td>\n",
       "      <td>104.760000</td>\n",
       "      <td>182.800000</td>\n",
       "      <td>133.780000</td>\n",
       "    </tr>\n",
       "  </tbody>\n",
       "</table>\n",
       "<p>8 rows × 34 columns</p>\n",
       "</div>"
      ],
      "text/plain": [
       "               year    day-number         ajmer         alwar      banswara  \\\n",
       "count  20454.000000  20454.000000  19327.000000  19689.000000  20084.000000   \n",
       "mean    1984.501027    183.125257      1.231852      1.709242      2.361521   \n",
       "std       16.163646    105.441220      5.695797      7.796654     11.518930   \n",
       "min     1957.000000      1.000000      0.000000      0.000000      0.000000   \n",
       "25%     1971.000000     92.000000      0.000000      0.000000      0.000000   \n",
       "50%     1984.500000    183.000000      0.000000      0.000000      0.000000   \n",
       "75%     1998.750000    274.000000      0.000000      0.000000      0.000000   \n",
       "max     2012.000000    366.000000    294.000000    282.500000    363.000000   \n",
       "\n",
       "             baran        barmer     bharatpur      bhilwara       bikaner  \\\n",
       "count  8036.000000  14943.000000  19630.000000  20087.000000  18259.000000   \n",
       "mean      2.414630      0.729333      1.780907      1.629850      0.719182   \n",
       "std      10.167191      4.500999      7.909387      6.124386      4.383149   \n",
       "min       0.000000      0.000000      0.000000      0.000000      0.000000   \n",
       "25%       0.000000      0.000000      0.000000      0.000000      0.000000   \n",
       "50%       0.000000      0.000000      0.000000      0.000000      0.000000   \n",
       "75%       0.000000      0.000000      0.000000      0.000000      0.000000   \n",
       "max     202.000000    185.000000    235.000000    182.580000    126.000000   \n",
       "\n",
       "       ...        nagaur          pali   pratapgarh    rajsamand  \\\n",
       "count  ...  20084.000000  20053.000000  1827.000000  7640.000000   \n",
       "mean   ...      1.085057      1.318173     2.631637     1.621219   \n",
       "std    ...      4.663666      6.349870    10.741672     6.731750   \n",
       "min    ...      0.000000      0.000000     0.000000     0.000000   \n",
       "25%    ...      0.000000      0.000000     0.000000     0.000000   \n",
       "50%    ...      0.000000      0.000000     0.000000     0.000000   \n",
       "75%    ...      0.000000      0.000000     0.000000     0.000000   \n",
       "max    ...    125.120000    188.860000   173.400000   124.000000   \n",
       "\n",
       "       sawai madhopur         sikar        sirohi    ganganagar          tonk  \\\n",
       "count    14605.000000  20419.000000  20450.000000  20084.000000  18988.000000   \n",
       "mean         1.880346      1.229352      2.155147      0.656415      1.622555   \n",
       "std          8.814127      5.013550     10.101074      3.093403      6.379751   \n",
       "min          0.000000      0.000000      0.000000      0.000000      0.000000   \n",
       "25%          0.000000      0.000000      0.000000      0.000000      0.000000   \n",
       "50%          0.000000      0.000000      0.000000      0.000000      0.000000   \n",
       "75%          0.000000      0.000000      0.000000      0.000000      0.000000   \n",
       "max        175.000000    152.320000    313.100000    104.760000    182.800000   \n",
       "\n",
       "            udaipur  \n",
       "count  20449.000000  \n",
       "mean       1.771191  \n",
       "std        6.625139  \n",
       "min        0.000000  \n",
       "25%        0.000000  \n",
       "50%        0.000000  \n",
       "75%        0.000000  \n",
       "max      133.780000  \n",
       "\n",
       "[8 rows x 34 columns]"
      ]
     },
     "execution_count": 3,
     "metadata": {},
     "output_type": "execute_result"
    }
   ],
   "source": [
    "district.describe()\n"
   ]
  },
  {
   "cell_type": "markdown",
   "metadata": {
    "heading_collapsed": true
   },
   "source": [
    "### Avg rainfall per day of a year for every region"
   ]
  },
  {
   "cell_type": "code",
   "execution_count": 10,
   "metadata": {
    "ExecuteTime": {
     "end_time": "2020-03-18T11:46:25.183633Z",
     "start_time": "2020-03-18T11:46:24.506129Z"
    },
    "hidden": true
   },
   "outputs": [],
   "source": [
    "traces=[]\n",
    "avg_day_year=rain.groupby(['day-number'])[regions].mean()\n",
    "for i in avg_day_year.columns.values:\n",
    "    traces.append(go.Scatter(x=avg_day_year.index,y=avg_day_year[i],name=str(i)))\n",
    "layout= go.Layout(title=dict(text='Rainfall by region'),xaxis=dict(title='Days',rangeslider=dict(visible=True)),yaxis=dict(title='Rainfall'))\n",
    "g=go.FigureWidget(data=traces, layout=layout)"
   ]
  },
  {
   "cell_type": "code",
   "execution_count": 11,
   "metadata": {
    "ExecuteTime": {
     "end_time": "2020-03-18T11:46:36.492173Z",
     "start_time": "2020-03-18T11:46:36.487737Z"
    },
    "hidden": true
   },
   "outputs": [],
   "source": [
    "def on_update_clicked_avg(btn):\n",
    "    avg_day_year=rain[rain['year'].isin([i for i in range(year_selector_avg.value[0],year_selector_avg.value[1]+1)])]\n",
    "    avg_day_year=avg_day_year.groupby(['day-number'])[regions].mean()\n",
    "    plot_avg(avg_day_year)"
   ]
  },
  {
   "cell_type": "code",
   "execution_count": 12,
   "metadata": {
    "ExecuteTime": {
     "end_time": "2020-03-18T11:46:48.687610Z",
     "start_time": "2020-03-18T11:46:48.680024Z"
    },
    "hidden": true
   },
   "outputs": [],
   "source": [
    "def plot_avg(df):\n",
    "    with g.batch_update():\n",
    "        for i in range(len(df.columns.values)):\n",
    "            g.data[i].y=df[df.columns.values[i]]\n",
    "            g.data[i].name=str(df.columns.values[i])\n",
    "            g.data[i].x=df.index\n",
    "        else:\n",
    "            g.data[i].x=None\n",
    "            g.data[i].y=None\n",
    "            g.data[i].name=None"
   ]
  },
  {
   "cell_type": "code",
   "execution_count": 21,
   "metadata": {
    "ExecuteTime": {
     "end_time": "2020-03-18T11:54:03.403994Z",
     "start_time": "2020-03-18T11:54:02.751035Z"
    },
    "hidden": true
   },
   "outputs": [
    {
     "data": {
      "application/vnd.jupyter.widget-view+json": {
       "model_id": "04473daf454b4c76af04f36a60a81bf1",
       "version_major": 2,
       "version_minor": 0
      },
      "text/plain": [
       "VBox(children=(SelectionRangeSlider(description='Select Year Frame', index=(0, 55), layout=Layout(margin='20px…"
      ]
     },
     "metadata": {},
     "output_type": "display_data"
    }
   ],
   "source": [
    "year_selector_avg = widgets.SelectionRangeSlider(\n",
    "    options=list(rain['year'].unique()),\n",
    "    index=(0, len(list(rain['year'].unique()))-1),\n",
    "    description='Select Years', disabled=False,\n",
    "    layout=Layout(width='500px', margin='20px 20px 20px 20px'))\n",
    "update_btn = widgets.Button(\n",
    "    description='Update',\n",
    "    disabled=False,\n",
    "    button_style='success',\n",
    "    layout=Layout(margin='20px 20px 20px 20px'))\n",
    "update_btn.on_click(on_update_clicked_avg)\n",
    "container = widgets.VBox([year_selector_avg, update_btn, g])\n",
    "display(container)"
   ]
  },
  {
   "cell_type": "code",
   "execution_count": null,
   "metadata": {
    "hidden": true
   },
   "outputs": [],
   "source": []
  }
 ],
 "metadata": {
  "kernelspec": {
   "display_name": "Python 3",
   "language": "python",
   "name": "python3"
  },
  "language_info": {
   "codemirror_mode": {
    "name": "ipython",
    "version": 3
   },
   "file_extension": ".py",
   "mimetype": "text/x-python",
   "name": "python",
   "nbconvert_exporter": "python",
   "pygments_lexer": "ipython3",
   "version": "3.7.4"
  },
  "varInspector": {
   "cols": {
    "lenName": 16,
    "lenType": 16,
    "lenVar": 40
   },
   "kernels_config": {
    "python": {
     "delete_cmd_postfix": "",
     "delete_cmd_prefix": "del ",
     "library": "var_list.py",
     "varRefreshCmd": "print(var_dic_list())"
    },
    "r": {
     "delete_cmd_postfix": ") ",
     "delete_cmd_prefix": "rm(",
     "library": "var_list.r",
     "varRefreshCmd": "cat(var_dic_list()) "
    }
   },
   "position": {
    "height": "695px",
    "left": "1550px",
    "right": "20px",
    "top": "120px",
    "width": "350px"
   },
   "types_to_exclude": [
    "module",
    "function",
    "builtin_function_or_method",
    "instance",
    "_Feature"
   ],
   "window_display": false
  }
 },
 "nbformat": 4,
 "nbformat_minor": 4
}
