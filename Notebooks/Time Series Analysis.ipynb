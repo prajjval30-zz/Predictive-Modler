{
 "cells": [
  {
   "cell_type": "markdown",
   "metadata": {},
   "source": [
    "### Import Libraries"
   ]
  },
  {
   "cell_type": "code",
   "execution_count": 1,
   "metadata": {},
   "outputs": [],
   "source": [
    "import pandas as pd\n",
    "import plotly.graph_objects as go\n",
    "import plotly.io as pio\n",
    "import plotly.express as px\n",
    "# renderer for jupyterlab\n",
    "pio.renderers.default='jupyterlab'\n",
    "# renderer for vs code\n",
    "# pio.renderers.default='vscode'\n",
    "# renderer for colab\n",
    "# pio.renderers.default='colab'\n",
    "pio.templates.default = \"plotly_dark\"\n",
    "import numpy as np\n",
    "import statsmodels.api as sm\n",
    "import datetime\n",
    "from plotly.subplots import make_subplots\n",
    "from ipywidgets import widgets,Layout\n",
    "import warnings\n",
    "warnings.simplefilter(action='ignore')"
   ]
  },
  {
   "cell_type": "markdown",
   "metadata": {},
   "source": [
    "### Importing the datasets"
   ]
  },
  {
   "cell_type": "code",
   "execution_count": 2,
   "metadata": {},
   "outputs": [],
   "source": [
    "rain=pd.read_csv(r'../data/rainfall-by-region.csv')\n",
    "regions=list(rain.columns.values)[5:]\n",
    "years=list(rain['year'].unique())\n",
    "monsoon_list=[i for i in range(150,281)]\n",
    "rain_monsoon=rain[rain['day-number'].isin(monsoon_list)]"
   ]
  },
  {
   "cell_type": "code",
   "execution_count": 3,
   "metadata": {},
   "outputs": [],
   "source": [
    "rain=rain.set_index('date',drop=False)"
   ]
  },
  {
   "cell_type": "markdown",
   "metadata": {},
   "source": [
    "### Plotting Function"
   ]
  },
  {
   "cell_type": "code",
   "execution_count": 4,
   "metadata": {},
   "outputs": [],
   "source": [
    "# dropdown widget\n",
    "region = widgets.Dropdown(\n",
    "    options=regions,\n",
    "    value=regions[0], description='Region',layout=Layout(margin='20px 20px 20px 20px'))\n",
    "container=widgets.HBox([region])"
   ]
  },
  {
   "cell_type": "code",
   "execution_count": 5,
   "metadata": {},
   "outputs": [],
   "source": [
    "def initial_plot(x_axis,df,iterate_list,title,x_axis_title):\n",
    "#     list_type=year\n",
    "    traces=[]\n",
    "    if len(iterate_list)==0:\n",
    "        traces.append(go.Scatter(x=df[x_axis],y=df[regions[0]],name=regions[0]))\n",
    "    else:\n",
    "        for i in iterate_list:\n",
    "            temp = df[df['year'] == i]\n",
    "            traces.append(go.Scatter(x=temp[x_axis],y=temp[regions[0]],name=str(i)))\n",
    "    layout = go.Layout(title=dict(text=title),xaxis=dict(title=x_axis_title,rangeslider=dict(visible=True)),yaxis=dict(title='Rainfall (mm)'))\n",
    "    return go.FigureWidget(data=traces, layout=layout)"
   ]
  },
  {
   "cell_type": "code",
   "execution_count": 6,
   "metadata": {},
   "outputs": [],
   "source": [
    "def plot_fig(id_r,title,x_axis,g,data,iterate_list):\n",
    "    var={i.split()[0].lower():i for i  in regions}\n",
    "    id_region=var[id_r]\n",
    "    with g.batch_update():\n",
    "        if len(iterate_list)!=0:\n",
    "            for i in iterate_list:\n",
    "                df = data[data['year'] == i]\n",
    "                g.data[i-1957].y=df[id_region]\n",
    "                g.data[i-1957].name=str(i)\n",
    "                g.data[i-1957].x=df[x_axis]\n",
    "        else:\n",
    "            g.data[0].y=data[id_region]\n",
    "            g.data[0].name=str(title)\n",
    "            g.data[0].x=data[x_axis]"
   ]
  },
  {
   "cell_type": "code",
   "execution_count": 7,
   "metadata": {},
   "outputs": [],
   "source": [
    "def response(change):\n",
    "    val=region.value.split()[0].lower()\n",
    "    plot_fig(val,region.value,'day-number',g,rain_monsoon,years)\n",
    "    plot_fig(val,region.value,'month',g_mean_monthly_year,mean_monthly_year,years)\n",
    "    plot_fig(val,region.value,'month',g_median_monthly_year,median_monthly_year,years)\n",
    "    plot_fig(val,region.value,'year',g_mean_yearly,mean_yearly,[])\n",
    "    plot_fig(val,region.value,'year',g_median_yearly,median_yearly,[])\n",
    "    plot_fig(val,region.value,'day-number',g_mean_daily,mean_daily,[])\n",
    "    plot_fig(val,region.value,'day-number',g_median_daily,median_daily,[])\n",
    "    plot_fig(val,region.value,'day-number',g_mean_daily_monsoon,mean_daily_monsoon,[])\n",
    "    plot_fig(val,region.value,'day-number',g_median_daily_monsoon,median_daily_monsoon,[])"
   ]
  },
  {
   "cell_type": "code",
   "execution_count": 8,
   "metadata": {},
   "outputs": [],
   "source": [
    "region.observe(response,names='value')"
   ]
  },
  {
   "cell_type": "code",
   "execution_count": 9,
   "metadata": {},
   "outputs": [],
   "source": [
    "rain.fillna(0,inplace=True)"
   ]
  },
  {
   "cell_type": "code",
   "execution_count": 10,
   "metadata": {},
   "outputs": [
    {
     "data": {
      "text/plain": [
       "date              0\n",
       "year              0\n",
       "day-number        0\n",
       "date.1            0\n",
       "month             0\n",
       "day-of-month      0\n",
       "ajmer             0\n",
       "alwar             0\n",
       "banswara          0\n",
       "baran             0\n",
       "barmer            0\n",
       "bharatpur         0\n",
       "bhilwara          0\n",
       "bikaner           0\n",
       "bundi             0\n",
       "chittorgarh       0\n",
       "churu             0\n",
       "dausa             0\n",
       "dholpur           0\n",
       "dungarpur         0\n",
       "hanumangarh       0\n",
       "jaipur            0\n",
       "jaisalmer         0\n",
       "jalore            0\n",
       "jhunjhunu         0\n",
       "jodhpur           0\n",
       "karoli            0\n",
       "kota              0\n",
       "nagaur            0\n",
       "pali              0\n",
       "pratapgarh        0\n",
       "rajsamand         0\n",
       "sawai madhopur    0\n",
       "sikar             0\n",
       "sirohi            0\n",
       "ganganagar        0\n",
       "tonk              0\n",
       "udaipur           0\n",
       "aw                0\n",
       "bshw              0\n",
       "cwq               0\n",
       "bwhw              0\n",
       "sub humid         0\n",
       "humid             0\n",
       "very humid        0\n",
       "semi arid         0\n",
       "arid              0\n",
       "daw               0\n",
       "caw               0\n",
       "ead               0\n",
       "dbw               0\n",
       "dtype: int64"
      ]
     },
     "execution_count": 10,
     "metadata": {},
     "output_type": "execute_result"
    }
   ],
   "source": [
    "rain.isnull().sum()"
   ]
  },
  {
   "cell_type": "code",
   "execution_count": 11,
   "metadata": {},
   "outputs": [
    {
     "data": {
      "application/vnd.jupyter.widget-view+json": {
       "model_id": "fa9a3b9de0ee4c929aa7574e5f1b8b13",
       "version_major": 2,
       "version_minor": 0
      },
      "text/plain": [
       "VBox(children=(HBox(children=(Dropdown(description='Region', layout=Layout(margin='20px 20px 20px 20px'), opti…"
      ]
     },
     "metadata": {},
     "output_type": "display_data"
    }
   ],
   "source": [
    "g=initial_plot('day-number',rain_monsoon,years,'Rain observed on daily basis (monsoon time)','Day of year')\n",
    "total_container=widgets.VBox([container,g])\n",
    "display(total_container)"
   ]
  },
  {
   "cell_type": "markdown",
   "metadata": {},
   "source": [
    "### Monthly Basis Classification"
   ]
  },
  {
   "cell_type": "code",
   "execution_count": 12,
   "metadata": {},
   "outputs": [],
   "source": [
    "mean_monthly_year=rain.groupby(['year','month'],as_index=False)[regions].mean()\n",
    "median_monthly_year=rain.groupby(['year','month'],as_index=False)[regions].median()"
   ]
  },
  {
   "cell_type": "code",
   "execution_count": 13,
   "metadata": {},
   "outputs": [
    {
     "data": {
      "application/vnd.jupyter.widget-view+json": {
       "model_id": "e2274764e00c43d7a30b4edb98d39ae4",
       "version_major": 2,
       "version_minor": 0
      },
      "text/plain": [
       "VBox(children=(HBox(children=(Dropdown(description='Region', layout=Layout(margin='20px 20px 20px 20px'), opti…"
      ]
     },
     "metadata": {},
     "output_type": "display_data"
    }
   ],
   "source": [
    "g_mean_monthly_year=initial_plot('month',mean_monthly_year,years,'Mean rain observed on monthly basis','Month')\n",
    "g_median_monthly_year=initial_plot('month',median_monthly_year,years,'Median rain observed on monthly basis','Month')\n",
    "total_container=widgets.VBox([container,g_mean_monthly_year,g_median_monthly_year])\n",
    "display(total_container)"
   ]
  },
  {
   "cell_type": "markdown",
   "metadata": {},
   "source": [
    "### Yearly Basis Classification"
   ]
  },
  {
   "cell_type": "code",
   "execution_count": 14,
   "metadata": {},
   "outputs": [],
   "source": [
    "mean_yearly=rain.groupby(['year'],as_index=False)[regions].mean()\n",
    "median_yearly=rain.groupby(['year'],as_index=False)[regions].median()"
   ]
  },
  {
   "cell_type": "code",
   "execution_count": 15,
   "metadata": {},
   "outputs": [
    {
     "data": {
      "application/vnd.jupyter.widget-view+json": {
       "model_id": "f8c5bc044070425d83125f9fad4f5fd7",
       "version_major": 2,
       "version_minor": 0
      },
      "text/plain": [
       "Dropdown(description='Region', layout=Layout(margin='20px 20px 20px 20px'), options=('day-of-month', 'ajmer', …"
      ]
     },
     "metadata": {},
     "output_type": "display_data"
    },
    {
     "data": {
      "application/vnd.jupyter.widget-view+json": {
       "model_id": "bf2dbe66f4c24a33af279c6c8f3cb838",
       "version_major": 2,
       "version_minor": 0
      },
      "text/plain": [
       "FigureWidget({\n",
       "    'data': [{'name': 'day-of-month',\n",
       "              'type': 'scatter',\n",
       "              'uid': '9b…"
      ]
     },
     "metadata": {},
     "output_type": "display_data"
    },
    {
     "data": {
      "application/vnd.jupyter.widget-view+json": {
       "model_id": "d4fccc49dfcc4d9f8988da6b514e0e98",
       "version_major": 2,
       "version_minor": 0
      },
      "text/plain": [
       "FigureWidget({\n",
       "    'data': [{'name': 'day-of-month',\n",
       "              'type': 'scatter',\n",
       "              'uid': '1f…"
      ]
     },
     "metadata": {},
     "output_type": "display_data"
    }
   ],
   "source": [
    "g_mean_yearly=initial_plot('year',mean_yearly,[],'Mean rain observed on yearly basis','Year')\n",
    "g_median_yearly=initial_plot('year',median_yearly,[],'Median rain observed on yearly basis','Year')\n",
    "display(region,g_mean_yearly,g_median_yearly)"
   ]
  },
  {
   "cell_type": "markdown",
   "metadata": {},
   "source": [
    "### Daily Basis Classification"
   ]
  },
  {
   "cell_type": "code",
   "execution_count": 16,
   "metadata": {},
   "outputs": [],
   "source": [
    "mean_daily=rain.groupby(['day-number'],as_index=False)[regions].mean()\n",
    "median_daily=rain.groupby(['day-number'],as_index=False)[regions].median()"
   ]
  },
  {
   "cell_type": "code",
   "execution_count": 17,
   "metadata": {},
   "outputs": [
    {
     "data": {
      "application/vnd.jupyter.widget-view+json": {
       "model_id": "f8c5bc044070425d83125f9fad4f5fd7",
       "version_major": 2,
       "version_minor": 0
      },
      "text/plain": [
       "Dropdown(description='Region', layout=Layout(margin='20px 20px 20px 20px'), options=('day-of-month', 'ajmer', …"
      ]
     },
     "metadata": {},
     "output_type": "display_data"
    },
    {
     "data": {
      "application/vnd.jupyter.widget-view+json": {
       "model_id": "a3bba76c4e654d08823ea9f3a55fc199",
       "version_major": 2,
       "version_minor": 0
      },
      "text/plain": [
       "FigureWidget({\n",
       "    'data': [{'name': 'day-of-month',\n",
       "              'type': 'scatter',\n",
       "              'uid': '63…"
      ]
     },
     "metadata": {},
     "output_type": "display_data"
    },
    {
     "data": {
      "application/vnd.jupyter.widget-view+json": {
       "model_id": "18b41ca5f28a4adebd6e629236fe2c56",
       "version_major": 2,
       "version_minor": 0
      },
      "text/plain": [
       "FigureWidget({\n",
       "    'data': [{'name': 'day-of-month',\n",
       "              'type': 'scatter',\n",
       "              'uid': 'ce…"
      ]
     },
     "metadata": {},
     "output_type": "display_data"
    }
   ],
   "source": [
    "g_mean_daily=initial_plot('day-number',mean_daily,[],'Mean distribution of Rainfall','Day of year')\n",
    "g_median_daily=initial_plot('day-number',median_daily,[],'Median distribution of Rainfall','Day of year')\n",
    "display(region,g_mean_daily,g_median_daily)"
   ]
  },
  {
   "cell_type": "code",
   "execution_count": 18,
   "metadata": {},
   "outputs": [],
   "source": [
    "mean_daily_monsoon=rain_monsoon.groupby(['day-number'],as_index=False)[regions].mean()\n",
    "median_daily_monsoon=rain_monsoon.groupby(['day-number'],as_index=False)[regions].median()"
   ]
  },
  {
   "cell_type": "code",
   "execution_count": 19,
   "metadata": {},
   "outputs": [
    {
     "data": {
      "application/vnd.jupyter.widget-view+json": {
       "model_id": "f8c5bc044070425d83125f9fad4f5fd7",
       "version_major": 2,
       "version_minor": 0
      },
      "text/plain": [
       "Dropdown(description='Region', layout=Layout(margin='20px 20px 20px 20px'), options=('day-of-month', 'ajmer', …"
      ]
     },
     "metadata": {},
     "output_type": "display_data"
    },
    {
     "data": {
      "application/vnd.jupyter.widget-view+json": {
       "model_id": "bb5860a2dab543aca34681122c867997",
       "version_major": 2,
       "version_minor": 0
      },
      "text/plain": [
       "FigureWidget({\n",
       "    'data': [{'name': 'day-of-month',\n",
       "              'type': 'scatter',\n",
       "              'uid': '63…"
      ]
     },
     "metadata": {},
     "output_type": "display_data"
    },
    {
     "data": {
      "application/vnd.jupyter.widget-view+json": {
       "model_id": "ae97551ac34a4ebab880b747a9c2250d",
       "version_major": 2,
       "version_minor": 0
      },
      "text/plain": [
       "FigureWidget({\n",
       "    'data': [{'name': 'day-of-month',\n",
       "              'type': 'scatter',\n",
       "              'uid': '07…"
      ]
     },
     "metadata": {},
     "output_type": "display_data"
    }
   ],
   "source": [
    "g_mean_daily_monsoon=initial_plot('day-number',mean_daily_monsoon,[],'Mean distribution of Rainfall (monsoon time)','Day of year')\n",
    "g_median_daily_monsoon=initial_plot('day-number',median_daily_monsoon,[],'Median distribution of Rainfall (monsoon time)','Day of year')\n",
    "display(region,g_mean_daily_monsoon,g_median_daily_monsoon)"
   ]
  },
  {
   "cell_type": "code",
   "execution_count": null,
   "metadata": {},
   "outputs": [],
   "source": []
  },
  {
   "cell_type": "code",
   "execution_count": null,
   "metadata": {},
   "outputs": [],
   "source": []
  }
 ],
 "metadata": {
  "kernelspec": {
   "display_name": "Python 3",
   "language": "python",
   "name": "python3"
  },
  "language_info": {
   "codemirror_mode": {
    "name": "ipython",
    "version": 3
   },
   "file_extension": ".py",
   "mimetype": "text/x-python",
   "name": "python",
   "nbconvert_exporter": "python",
   "pygments_lexer": "ipython3",
   "version": "3.7.4"
  }
 },
 "nbformat": 4,
 "nbformat_minor": 4
}
