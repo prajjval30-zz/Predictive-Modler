{
 "cells": [
  {
   "cell_type": "code",
   "execution_count": 38,
   "metadata": {},
   "outputs": [],
   "source": [
    "import pandas as pd\n",
    "import plotly.graph_objects as go\n",
    "import plotly.io as pio\n",
    "import plotly.express as px\n",
    "# renderer for jupyterlab\n",
    "pio.renderers.default='jupyterlab'\n",
    "# renderer for vs code\n",
    "# pio.renderers.default='vscode'\n",
    "# renderer for colab\n",
    "# pio.renderers.default='colab'\n",
    "pio.templates.default = \"plotly_white\"\n",
    "import numpy as np\n",
    "import statsmodels.api as sm\n",
    "import datetime\n",
    "from plotly.subplots import make_subplots\n",
    "from ipywidgets import widgets,Layout\n",
    "import warnings\n",
    "warnings.simplefilter(action='ignore')"
   ]
  },
  {
   "cell_type": "markdown",
   "metadata": {},
   "source": [
    "### Importing the datasets"
   ]
  },
  {
   "cell_type": "code",
   "execution_count": 39,
   "metadata": {},
   "outputs": [],
   "source": [
    "district=pd.read_csv(r'../data/rainfall-districts.csv')\n",
    "koeppen=pd.read_csv(r'../data/rainfall-koe-regions.csv')\n",
    "thornthwaite=pd.read_csv(r'../data/rainfall-tho-regions.csv')\n",
    "climatic=pd.read_csv(r'../data/rainfall-climatic-regions.csv')"
   ]
  },
  {
   "cell_type": "markdown",
   "metadata": {},
   "source": [
    "### Rainfall by region type"
   ]
  },
  {
   "cell_type": "code",
   "execution_count": 40,
   "metadata": {},
   "outputs": [],
   "source": [
    "# dropdown widget\n",
    "region_type = widgets.Dropdown(\n",
    "    options=['District','Koeppen Climatic Regions',\n",
    "             'Thornthwaite Climatic Regions', 'Climatic Region'],\n",
    "    value='District', description='Region Type',layout=Layout(margin='20px 20px 20px 20px'))\n",
    "container=widgets.HBox([region_type])"
   ]
  },
  {
   "cell_type": "code",
   "execution_count": 41,
   "metadata": {},
   "outputs": [],
   "source": [
    "traces=[go.Scatter(x=district['date'],y=district[i],name=i) for i in district.columns[3:]]\n",
    "layout = go.Layout(title=dict(text='Rainfall by region type'),xaxis=dict(title='Years',rangeslider=dict(visible=True)),yaxis=dict(title='Rainfall'))\n",
    "go.Layout()\n",
    "g = go.FigureWidget(data=traces, layout=layout)"
   ]
  },
  {
   "cell_type": "code",
   "execution_count": 42,
   "metadata": {
    "scrolled": true
   },
   "outputs": [],
   "source": [
    "def plot_fig(df, title):\n",
    "    var = {'district': district,\n",
    "           'koeppen': koeppen,\n",
    "           'thornthwaite': thornthwaite,\n",
    "           'climatic': climatic}\n",
    "    df=var[df]\n",
    "    with g.batch_update():\n",
    "        col=list(df.columns.values)\n",
    "        for i in range(len(g.data)):\n",
    "            if i+3<len(col):\n",
    "                g.data[i].y=df[col[i+3]]\n",
    "                g.data[i].name=col[i+3]\n",
    "                g.data[i].x=df['date']\n",
    "            else:\n",
    "                g.data[i].x=None\n",
    "                g.data[i].y=None\n",
    "                g.data[i].name=None"
   ]
  },
  {
   "cell_type": "code",
   "execution_count": 43,
   "metadata": {},
   "outputs": [
    {
     "data": {
      "application/vnd.jupyter.widget-view+json": {
       "model_id": "a5c207c8e12d4f3c87e0b80d5460cfa1",
       "version_major": 2,
       "version_minor": 0
      },
      "text/plain": [
       "VBox(children=(HBox(children=(Dropdown(description='Region Type', layout=Layout(margin='20px 20px 20px 20px'),…"
      ]
     },
     "metadata": {},
     "output_type": "display_data"
    }
   ],
   "source": [
    "total_container=widgets.VBox([container,g])\n",
    "display(total_container)"
   ]
  },
  {
   "cell_type": "code",
   "execution_count": 44,
   "metadata": {},
   "outputs": [],
   "source": [
    "def response(change):\n",
    "    val=region_type.value.split()[0].lower()\n",
    "    plot_fig(val,region_type.value)"
   ]
  },
  {
   "cell_type": "code",
   "execution_count": 45,
   "metadata": {},
   "outputs": [],
   "source": [
    "region_type.observe(response,names='value')"
   ]
  },
  {
   "cell_type": "markdown",
   "metadata": {},
   "source": [
    "### Rainfall Complete Data"
   ]
  },
  {
   "cell_type": "code",
   "execution_count": 46,
   "metadata": {},
   "outputs": [],
   "source": [
    "rain=pd.concat([district,koeppen.iloc[:,3:],climatic.iloc[:,3:],thornthwaite.iloc[:,3:]],axis=1)"
   ]
  },
  {
   "cell_type": "code",
   "execution_count": 47,
   "metadata": {},
   "outputs": [],
   "source": [
    "rain=rain.set_index('date',drop=False)"
   ]
  },
  {
   "cell_type": "code",
   "execution_count": 48,
   "metadata": {},
   "outputs": [],
   "source": [
    "rain['month']=rain.apply(lambda x: datetime.datetime.strptime(x['date'], \"%Y-%m-%d\").month,axis=1)\n",
    "rain['day-of-month']=rain.apply(lambda x: datetime.datetime.strptime(x['date'], \"%Y-%m-%d\").day,axis=1)\n",
    "rain=rain[list(rain.columns[:3])+list(rain.columns[48:50])+list(rain.columns[3:48])]"
   ]
  },
  {
   "cell_type": "code",
   "execution_count": 49,
   "metadata": {},
   "outputs": [],
   "source": [
    "regions=list(rain.columns.values)[5:]"
   ]
  },
  {
   "cell_type": "code",
   "execution_count": 53,
   "metadata": {},
   "outputs": [],
   "source": [
    "rain.to_csv(r'../data/rainfall-by-region.csv')"
   ]
  },
  {
   "cell_type": "code",
   "execution_count": null,
   "metadata": {},
   "outputs": [],
   "source": []
  },
  {
   "cell_type": "code",
   "execution_count": null,
   "metadata": {},
   "outputs": [],
   "source": []
  }
 ],
 "metadata": {
  "kernelspec": {
   "display_name": "Python 3",
   "language": "python",
   "name": "python3"
  },
  "language_info": {
   "codemirror_mode": {
    "name": "ipython",
    "version": 3
   },
   "file_extension": ".py",
   "mimetype": "text/x-python",
   "name": "python",
   "nbconvert_exporter": "python",
   "pygments_lexer": "ipython3",
   "version": "3.7.4"
  }
 },
 "nbformat": 4,
 "nbformat_minor": 4
}
